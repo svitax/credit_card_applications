{
  "nbformat": 4,
  "nbformat_minor": 0,
  "metadata": {
    "colab": {
      "name": "cc_apps.ipynb",
      "provenance": [],
      "collapsed_sections": [],
      "authorship_tag": "ABX9TyNN9qaOeJrGK4635gHOkgAf",
      "include_colab_link": true
    },
    "kernelspec": {
      "name": "python3",
      "display_name": "Python 3"
    },
    "language_info": {
      "name": "python"
    }
  },
  "cells": [
    {
      "cell_type": "markdown",
      "metadata": {
        "id": "view-in-github",
        "colab_type": "text"
      },
      "source": [
        "<a href=\"https://colab.research.google.com/github/svitax/credit_card_applications/blob/master/cc_apps.ipynb\" target=\"_parent\"><img src=\"https://colab.research.google.com/assets/colab-badge.svg\" alt=\"Open In Colab\"/></a>"
      ]
    },
    {
      "cell_type": "code",
      "metadata": {
        "id": "n_FqXw8eidB5"
      },
      "source": [
        "import pandas as pd\n",
        "import numpy as np\n",
        "from sklearn.preprocessing import LabelEncoder, StandardScaler\n",
        "from sklearn.model_selection import train_test_split, GridSearchCV\n",
        "from sklearn.pipeline import Pipeline\n",
        "from sklearn.linear_model import LogisticRegression\n",
        "from sklearn.neighbors import KNeighborsClassifier\n",
        "from sklearn.svm import LinearSVC, SVC\n",
        "from sklearn.tree import DecisionTreeClassifier\n",
        "from sklearn.ensemble import BaggingClassifier, RandomForestClassifier, AdaBoostClassifier, GradientBoostingClassifier\n",
        "from sklearn.metrics import confusion_matrix, f1_score"
      ],
      "execution_count": 90,
      "outputs": []
    },
    {
      "cell_type": "markdown",
      "metadata": {
        "id": "dGr6rSnBrLHi"
      },
      "source": [
        "## Loading and viewing the applications"
      ]
    },
    {
      "cell_type": "code",
      "metadata": {
        "colab": {
          "base_uri": "https://localhost:8080/"
        },
        "id": "nzq3UM9BikXY",
        "outputId": "ffcc97f6-3b56-4940-c42f-ff849593e069"
      },
      "source": [
        "# Load dataset\n",
        "cc_apps = pd.read_csv(\"cc_approvals.data\", header=None)\n",
        "\n",
        "# Inspect data\n",
        "print(cc_apps.head())"
      ],
      "execution_count": 98,
      "outputs": [
        {
          "output_type": "stream",
          "text": [
            "  0      1      2  3  4  5  6     7  8  9   10 11 12     13   14 15\n",
            "0  b  30.83  0.000  u  g  w  v  1.25  t  t   1  f  g  00202    0  +\n",
            "1  a  58.67  4.460  u  g  q  h  3.04  t  t   6  f  g  00043  560  +\n",
            "2  a  24.50  0.500  u  g  q  h  1.50  t  f   0  f  g  00280  824  +\n",
            "3  b  27.83  1.540  u  g  w  v  3.75  t  t   5  t  g  00100    3  +\n",
            "4  b  20.17  5.625  u  g  w  v  1.71  t  f   0  f  s  00120    0  +\n"
          ],
          "name": "stdout"
        }
      ]
    },
    {
      "cell_type": "markdown",
      "metadata": {
        "id": "BCKF6qgXIpBW"
      },
      "source": [
        "## Likely features\n",
        "\n",
        "0.   Male          : num  1 1 0 0 0 0 1 0 0 0 ...\n",
        "1.   Age           : chr  \"58.67\" \"24.50\" \"27.83\" \"20.17\" ...\n",
        "2.   Debt          : num  4.46 0.5 1.54 5.62 4 ...\n",
        "3.   Married       : chr  \"u\" \"u\" \"u\" \"u\" ...\n",
        "4.   BankCustomer  : chr  \"g\" \"g\" \"g\" \"g\" ...\n",
        "5.   EducationLevel: chr  \"q\" \"q\" \"w\" \"w\" ...\n",
        "6.   Ethnicity     : chr  \"h\" \"h\" \"v\" \"v\" ...\n",
        "7.   YearsEmployed : num  3.04 1.5 3.75 1.71 2.5 ...\n",
        "8.   PriorDefault  : num  1 1 1 1 1 1 1 1 1 0 ...\n",
        "9.   Employed      : num  1 0 1 0 0 0 0 0 0 0 ...\n",
        "10.  CreditScore   : num  6 0 5 0 0 0 0 0 0 0 ...    \n",
        "11.  DriversLicense: chr  \"f\" \"f\" \"t\" \"f\" ...\n",
        "12.  Citizen       : chr  \"g\" \"g\" \"g\" \"s\" ... \n",
        "13.  ZipCode       : chr  \"00043\" \"00280\" \"00100\" \"00120\" ... \n",
        "14.  Income        : num  560 824 3 0 0 ... \n",
        "15.  Approved      : chr  \"+\" \"+\" \"+\" \"+\" ... "
      ]
    },
    {
      "cell_type": "markdown",
      "metadata": {
        "id": "YQha2LBqrIcs"
      },
      "source": [
        "## Inspecting the applications"
      ]
    },
    {
      "cell_type": "code",
      "metadata": {
        "colab": {
          "base_uri": "https://localhost:8080/"
        },
        "id": "wB1_d5RLir5D",
        "outputId": "08b45cf4-f54c-4ee7-ee45-2a47d4ba420b"
      },
      "source": [
        "# Print summary statistics\n",
        "cc_apps_description = cc_apps.describe()\n",
        "print(cc_apps_description)\n",
        "print(\"\\n\")\n",
        "\n",
        "# Print DataFrame information\n",
        "cc_apps_info = cc_apps.info()\n",
        "print(cc_apps_info)\n",
        "\n",
        "# Inspect missing values in the dataset\n",
        "print(cc_apps.tail(17))"
      ],
      "execution_count": 99,
      "outputs": [
        {
          "output_type": "stream",
          "text": [
            "               2           7          10             14\n",
            "count  690.000000  690.000000  690.00000     690.000000\n",
            "mean     4.758725    2.223406    2.40000    1017.385507\n",
            "std      4.978163    3.346513    4.86294    5210.102598\n",
            "min      0.000000    0.000000    0.00000       0.000000\n",
            "25%      1.000000    0.165000    0.00000       0.000000\n",
            "50%      2.750000    1.000000    0.00000       5.000000\n",
            "75%      7.207500    2.625000    3.00000     395.500000\n",
            "max     28.000000   28.500000   67.00000  100000.000000\n",
            "\n",
            "\n",
            "<class 'pandas.core.frame.DataFrame'>\n",
            "RangeIndex: 690 entries, 0 to 689\n",
            "Data columns (total 16 columns):\n",
            " #   Column  Non-Null Count  Dtype  \n",
            "---  ------  --------------  -----  \n",
            " 0   0       690 non-null    object \n",
            " 1   1       690 non-null    object \n",
            " 2   2       690 non-null    float64\n",
            " 3   3       690 non-null    object \n",
            " 4   4       690 non-null    object \n",
            " 5   5       690 non-null    object \n",
            " 6   6       690 non-null    object \n",
            " 7   7       690 non-null    float64\n",
            " 8   8       690 non-null    object \n",
            " 9   9       690 non-null    object \n",
            " 10  10      690 non-null    int64  \n",
            " 11  11      690 non-null    object \n",
            " 12  12      690 non-null    object \n",
            " 13  13      690 non-null    object \n",
            " 14  14      690 non-null    int64  \n",
            " 15  15      690 non-null    object \n",
            "dtypes: float64(2), int64(2), object(12)\n",
            "memory usage: 86.4+ KB\n",
            "None\n",
            "    0      1       2  3  4   5   6      7  8  9   10 11 12     13   14 15\n",
            "673  ?  29.50   2.000  y  p   e   h  2.000  f  f   0  f  g  00256   17  -\n",
            "674  a  37.33   2.500  u  g   i   h  0.210  f  f   0  f  g  00260  246  -\n",
            "675  a  41.58   1.040  u  g  aa   v  0.665  f  f   0  f  g  00240  237  -\n",
            "676  a  30.58  10.665  u  g   q   h  0.085  f  t  12  t  g  00129    3  -\n",
            "677  b  19.42   7.250  u  g   m   v  0.040  f  t   1  f  g  00100    1  -\n",
            "678  a  17.92  10.210  u  g  ff  ff  0.000  f  f   0  f  g  00000   50  -\n",
            "679  a  20.08   1.250  u  g   c   v  0.000  f  f   0  f  g  00000    0  -\n",
            "680  b  19.50   0.290  u  g   k   v  0.290  f  f   0  f  g  00280  364  -\n",
            "681  b  27.83   1.000  y  p   d   h  3.000  f  f   0  f  g  00176  537  -\n",
            "682  b  17.08   3.290  u  g   i   v  0.335  f  f   0  t  g  00140    2  -\n",
            "683  b  36.42   0.750  y  p   d   v  0.585  f  f   0  f  g  00240    3  -\n",
            "684  b  40.58   3.290  u  g   m   v  3.500  f  f   0  t  s  00400    0  -\n",
            "685  b  21.08  10.085  y  p   e   h  1.250  f  f   0  f  g  00260    0  -\n",
            "686  a  22.67   0.750  u  g   c   v  2.000  f  t   2  t  g  00200  394  -\n",
            "687  a  25.25  13.500  y  p  ff  ff  2.000  f  t   1  t  g  00200    1  -\n",
            "688  b  17.92   0.205  u  g  aa   v  0.040  f  f   0  f  g  00280  750  -\n",
            "689  b  35.00   3.375  u  g   c   h  8.290  f  f   0  t  g  00000    0  -\n"
          ],
          "name": "stdout"
        }
      ]
    },
    {
      "cell_type": "markdown",
      "metadata": {
        "id": "vNXyqSatrDIw"
      },
      "source": [
        "## Replace missing values (question marks in this dataset) with NaN.\n"
      ]
    },
    {
      "cell_type": "code",
      "metadata": {
        "colab": {
          "base_uri": "https://localhost:8080/"
        },
        "id": "BI6zdAsuivNi",
        "outputId": "e03d1db9-fa0d-47ec-cddc-af2b471573e6"
      },
      "source": [
        "# Replace the '?'s with NaN\n",
        "cc_apps = cc_apps.replace(\"?\", np.nan)\n",
        "\n",
        "# Inspect the missing values again\n",
        "print(cc_apps.tail(17))"
      ],
      "execution_count": 100,
      "outputs": [
        {
          "output_type": "stream",
          "text": [
            "      0      1       2  3  4   5   6      7  8  9   10 11 12     13   14 15\n",
            "673  NaN  29.50   2.000  y  p   e   h  2.000  f  f   0  f  g  00256   17  -\n",
            "674    a  37.33   2.500  u  g   i   h  0.210  f  f   0  f  g  00260  246  -\n",
            "675    a  41.58   1.040  u  g  aa   v  0.665  f  f   0  f  g  00240  237  -\n",
            "676    a  30.58  10.665  u  g   q   h  0.085  f  t  12  t  g  00129    3  -\n",
            "677    b  19.42   7.250  u  g   m   v  0.040  f  t   1  f  g  00100    1  -\n",
            "678    a  17.92  10.210  u  g  ff  ff  0.000  f  f   0  f  g  00000   50  -\n",
            "679    a  20.08   1.250  u  g   c   v  0.000  f  f   0  f  g  00000    0  -\n",
            "680    b  19.50   0.290  u  g   k   v  0.290  f  f   0  f  g  00280  364  -\n",
            "681    b  27.83   1.000  y  p   d   h  3.000  f  f   0  f  g  00176  537  -\n",
            "682    b  17.08   3.290  u  g   i   v  0.335  f  f   0  t  g  00140    2  -\n",
            "683    b  36.42   0.750  y  p   d   v  0.585  f  f   0  f  g  00240    3  -\n",
            "684    b  40.58   3.290  u  g   m   v  3.500  f  f   0  t  s  00400    0  -\n",
            "685    b  21.08  10.085  y  p   e   h  1.250  f  f   0  f  g  00260    0  -\n",
            "686    a  22.67   0.750  u  g   c   v  2.000  f  t   2  t  g  00200  394  -\n",
            "687    a  25.25  13.500  y  p  ff  ff  2.000  f  t   1  t  g  00200    1  -\n",
            "688    b  17.92   0.205  u  g  aa   v  0.040  f  f   0  f  g  00280  750  -\n",
            "689    b  35.00   3.375  u  g   c   h  8.290  f  f   0  t  g  00000    0  -\n"
          ],
          "name": "stdout"
        }
      ]
    },
    {
      "cell_type": "markdown",
      "metadata": {
        "id": "p9WAZ1DGq9c8"
      },
      "source": [
        "## Impute the missing numeric values with the mean value of their respective columns\n"
      ]
    },
    {
      "cell_type": "code",
      "metadata": {
        "colab": {
          "base_uri": "https://localhost:8080/"
        },
        "id": "MKFmRU_DivWS",
        "outputId": "656e3475-f7c5-4958-8ec3-e5f2065d1bfa"
      },
      "source": [
        "# Impute the missing values with mean imputation\n",
        "cc_apps.fillna(cc_apps.mean(), inplace=True)\n",
        "\n",
        "# Count the number of NaNs in the dataset to verify\n",
        "print(cc_apps.isnull().sum().sum())\n",
        "\n",
        "print(cc_apps.tail(17))"
      ],
      "execution_count": 101,
      "outputs": [
        {
          "output_type": "stream",
          "text": [
            "67\n",
            "      0      1       2  3  4   5   6      7  8  9   10 11 12     13   14 15\n",
            "673  NaN  29.50   2.000  y  p   e   h  2.000  f  f   0  f  g  00256   17  -\n",
            "674    a  37.33   2.500  u  g   i   h  0.210  f  f   0  f  g  00260  246  -\n",
            "675    a  41.58   1.040  u  g  aa   v  0.665  f  f   0  f  g  00240  237  -\n",
            "676    a  30.58  10.665  u  g   q   h  0.085  f  t  12  t  g  00129    3  -\n",
            "677    b  19.42   7.250  u  g   m   v  0.040  f  t   1  f  g  00100    1  -\n",
            "678    a  17.92  10.210  u  g  ff  ff  0.000  f  f   0  f  g  00000   50  -\n",
            "679    a  20.08   1.250  u  g   c   v  0.000  f  f   0  f  g  00000    0  -\n",
            "680    b  19.50   0.290  u  g   k   v  0.290  f  f   0  f  g  00280  364  -\n",
            "681    b  27.83   1.000  y  p   d   h  3.000  f  f   0  f  g  00176  537  -\n",
            "682    b  17.08   3.290  u  g   i   v  0.335  f  f   0  t  g  00140    2  -\n",
            "683    b  36.42   0.750  y  p   d   v  0.585  f  f   0  f  g  00240    3  -\n",
            "684    b  40.58   3.290  u  g   m   v  3.500  f  f   0  t  s  00400    0  -\n",
            "685    b  21.08  10.085  y  p   e   h  1.250  f  f   0  f  g  00260    0  -\n",
            "686    a  22.67   0.750  u  g   c   v  2.000  f  t   2  t  g  00200  394  -\n",
            "687    a  25.25  13.500  y  p  ff  ff  2.000  f  t   1  t  g  00200    1  -\n",
            "688    b  17.92   0.205  u  g  aa   v  0.040  f  f   0  f  g  00280  750  -\n",
            "689    b  35.00   3.375  u  g   c   h  8.290  f  f   0  t  g  00000    0  -\n"
          ],
          "name": "stdout"
        }
      ]
    },
    {
      "cell_type": "markdown",
      "metadata": {
        "id": "9VNO-O3cq6AI"
      },
      "source": [
        "## Impute missing non-numeric values with the most frequent value present of their respective columns\n"
      ]
    },
    {
      "cell_type": "code",
      "metadata": {
        "colab": {
          "base_uri": "https://localhost:8080/"
        },
        "id": "ZxCtTRX2ivdH",
        "outputId": "2934bb3c-a2c6-4f4a-95e1-cc50e7bacee3"
      },
      "source": [
        "# We still have some non-numeric columns that have missing values\n",
        "# Iterate over each column of cc_apps\n",
        "for col in cc_apps.columns.to_numpy():\n",
        "    # Check if the column is of object type\n",
        "    if cc_apps[col].dtypes == 'object':\n",
        "        # Impute with the most frequent value\n",
        "        cc_apps = cc_apps.fillna(cc_apps[col].value_counts().index[0])\n",
        "\n",
        "# Count the number of NaNs in the dataset and print the counts to verify\n",
        "print(cc_apps.isnull().sum().sum())\n",
        "\n",
        "print(cc_apps.tail(17))"
      ],
      "execution_count": 102,
      "outputs": [
        {
          "output_type": "stream",
          "text": [
            "0\n",
            "    0      1       2  3  4   5   6      7  8  9   10 11 12     13   14 15\n",
            "673  b  29.50   2.000  y  p   e   h  2.000  f  f   0  f  g  00256   17  -\n",
            "674  a  37.33   2.500  u  g   i   h  0.210  f  f   0  f  g  00260  246  -\n",
            "675  a  41.58   1.040  u  g  aa   v  0.665  f  f   0  f  g  00240  237  -\n",
            "676  a  30.58  10.665  u  g   q   h  0.085  f  t  12  t  g  00129    3  -\n",
            "677  b  19.42   7.250  u  g   m   v  0.040  f  t   1  f  g  00100    1  -\n",
            "678  a  17.92  10.210  u  g  ff  ff  0.000  f  f   0  f  g  00000   50  -\n",
            "679  a  20.08   1.250  u  g   c   v  0.000  f  f   0  f  g  00000    0  -\n",
            "680  b  19.50   0.290  u  g   k   v  0.290  f  f   0  f  g  00280  364  -\n",
            "681  b  27.83   1.000  y  p   d   h  3.000  f  f   0  f  g  00176  537  -\n",
            "682  b  17.08   3.290  u  g   i   v  0.335  f  f   0  t  g  00140    2  -\n",
            "683  b  36.42   0.750  y  p   d   v  0.585  f  f   0  f  g  00240    3  -\n",
            "684  b  40.58   3.290  u  g   m   v  3.500  f  f   0  t  s  00400    0  -\n",
            "685  b  21.08  10.085  y  p   e   h  1.250  f  f   0  f  g  00260    0  -\n",
            "686  a  22.67   0.750  u  g   c   v  2.000  f  t   2  t  g  00200  394  -\n",
            "687  a  25.25  13.500  y  p  ff  ff  2.000  f  t   1  t  g  00200    1  -\n",
            "688  b  17.92   0.205  u  g  aa   v  0.040  f  f   0  f  g  00280  750  -\n",
            "689  b  35.00   3.375  u  g   c   h  8.290  f  f   0  t  g  00000    0  -\n"
          ],
          "name": "stdout"
        }
      ]
    },
    {
      "cell_type": "markdown",
      "metadata": {
        "id": "CWzIqy5Mq1I7"
      },
      "source": [
        "## Convert non-numeric data into numeric with label encoding"
      ]
    },
    {
      "cell_type": "code",
      "metadata": {
        "colab": {
          "base_uri": "https://localhost:8080/"
        },
        "id": "9svtW1KSivgO",
        "outputId": "0076a222-49ec-4f07-a93d-d49120f32da4"
      },
      "source": [
        "# Instantiate LabelEncoder\n",
        "le = LabelEncoder()\n",
        "\n",
        "# Iterate over all the values of each column and extract their dtypes\n",
        "for col in cc_apps.columns.to_numpy():\n",
        "    # Compare if the dtype is object\n",
        "    if cc_apps[col].dtypes == 'object':\n",
        "        # Use LabelEncoder to do the numeric transformation\n",
        "        cc_apps[col] = le.fit_transform(cc_apps[col])\n",
        "\n",
        "# cc_apps = cc_apps.apply(lambda col: le.fit_transform(col), axis=0, result_type='expand')\n",
        "\n",
        "print(cc_apps.info())\n",
        "\n",
        "print(cc_apps.tail(17))"
      ],
      "execution_count": 103,
      "outputs": [
        {
          "output_type": "stream",
          "text": [
            "<class 'pandas.core.frame.DataFrame'>\n",
            "RangeIndex: 690 entries, 0 to 689\n",
            "Data columns (total 16 columns):\n",
            " #   Column  Non-Null Count  Dtype  \n",
            "---  ------  --------------  -----  \n",
            " 0   0       690 non-null    int64  \n",
            " 1   1       690 non-null    int64  \n",
            " 2   2       690 non-null    float64\n",
            " 3   3       690 non-null    int64  \n",
            " 4   4       690 non-null    int64  \n",
            " 5   5       690 non-null    int64  \n",
            " 6   6       690 non-null    int64  \n",
            " 7   7       690 non-null    float64\n",
            " 8   8       690 non-null    int64  \n",
            " 9   9       690 non-null    int64  \n",
            " 10  10      690 non-null    int64  \n",
            " 11  11      690 non-null    int64  \n",
            " 12  12      690 non-null    int64  \n",
            " 13  13      690 non-null    int64  \n",
            " 14  14      690 non-null    int64  \n",
            " 15  15      690 non-null    int64  \n",
            "dtypes: float64(2), int64(14)\n",
            "memory usage: 86.4 KB\n",
            "None\n",
            "     0    1       2   3   4   5   6      7   8   9   10  11  12   13   14  15\n",
            "673   1  140   2.000   3   3   5   4  2.000   0   0   0   0   0   89   17   1\n",
            "674   0  214   2.500   2   1   7   4  0.210   0   0   0   0   0   90  246   1\n",
            "675   0  248   1.040   2   1   0   8  0.665   0   0   0   0   0   84  237   1\n",
            "676   0  153  10.665   2   1  11   4  0.085   0   1  12   1   0   40    3   1\n",
            "677   1   36   7.250   2   1  10   8  0.040   0   1   1   0   0   31    1   1\n",
            "678   0   20  10.210   2   1   6   3  0.000   0   0   0   0   0    0   50   1\n",
            "679   0   42   1.250   2   1   2   8  0.000   0   0   0   0   0    0    0   1\n",
            "680   1   37   0.290   2   1   9   8  0.290   0   0   0   0   0   96  364   1\n",
            "681   1  125   1.000   3   3   4   4  3.000   0   0   0   0   0   60  537   1\n",
            "682   1   12   3.290   2   1   7   8  0.335   0   0   0   1   0   44    2   1\n",
            "683   1  208   0.750   3   3   4   8  0.585   0   0   0   0   0   84    3   1\n",
            "684   1  240   3.290   2   1  10   8  3.500   0   0   0   1   2  129    0   1\n",
            "685   1   52  10.085   3   3   5   4  1.250   0   0   0   0   0   90    0   1\n",
            "686   0   71   0.750   2   1   2   8  2.000   0   1   2   1   0   67  394   1\n",
            "687   0   97  13.500   3   3   6   3  2.000   0   1   1   1   0   67    1   1\n",
            "688   1   20   0.205   2   1   0   8  0.040   0   0   0   0   0   96  750   1\n",
            "689   1  197   3.375   2   1   2   4  8.290   0   0   0   1   0    0    0   1\n"
          ],
          "name": "stdout"
        }
      ]
    },
    {
      "cell_type": "markdown",
      "metadata": {
        "id": "2BK9mtgbqt5G"
      },
      "source": [
        "## Exclude unimportant features\n"
      ]
    },
    {
      "cell_type": "code",
      "metadata": {
        "colab": {
          "base_uri": "https://localhost:8080/"
        },
        "id": "Q3-dMtcKySMP",
        "outputId": "1aeae4df-f689-4b24-a0fa-4bc41cb814a5"
      },
      "source": [
        "# Drop the features 11 and 13\n",
        "cc_apps = cc_apps.drop([11, 13], axis=1)\n",
        "print(cc_apps.info())\n",
        "print(cc_apps.tail(17))\n",
        "\n",
        "# cc_apps = cc_apps.to_numpy()"
      ],
      "execution_count": 104,
      "outputs": [
        {
          "output_type": "stream",
          "text": [
            "<class 'pandas.core.frame.DataFrame'>\n",
            "RangeIndex: 690 entries, 0 to 689\n",
            "Data columns (total 14 columns):\n",
            " #   Column  Non-Null Count  Dtype  \n",
            "---  ------  --------------  -----  \n",
            " 0   0       690 non-null    int64  \n",
            " 1   1       690 non-null    int64  \n",
            " 2   2       690 non-null    float64\n",
            " 3   3       690 non-null    int64  \n",
            " 4   4       690 non-null    int64  \n",
            " 5   5       690 non-null    int64  \n",
            " 6   6       690 non-null    int64  \n",
            " 7   7       690 non-null    float64\n",
            " 8   8       690 non-null    int64  \n",
            " 9   9       690 non-null    int64  \n",
            " 10  10      690 non-null    int64  \n",
            " 11  12      690 non-null    int64  \n",
            " 12  14      690 non-null    int64  \n",
            " 13  15      690 non-null    int64  \n",
            "dtypes: float64(2), int64(12)\n",
            "memory usage: 75.6 KB\n",
            "None\n",
            "     0    1       2   3   4   5   6      7   8   9   10  12   14  15\n",
            "673   1  140   2.000   3   3   5   4  2.000   0   0   0   0   17   1\n",
            "674   0  214   2.500   2   1   7   4  0.210   0   0   0   0  246   1\n",
            "675   0  248   1.040   2   1   0   8  0.665   0   0   0   0  237   1\n",
            "676   0  153  10.665   2   1  11   4  0.085   0   1  12   0    3   1\n",
            "677   1   36   7.250   2   1  10   8  0.040   0   1   1   0    1   1\n",
            "678   0   20  10.210   2   1   6   3  0.000   0   0   0   0   50   1\n",
            "679   0   42   1.250   2   1   2   8  0.000   0   0   0   0    0   1\n",
            "680   1   37   0.290   2   1   9   8  0.290   0   0   0   0  364   1\n",
            "681   1  125   1.000   3   3   4   4  3.000   0   0   0   0  537   1\n",
            "682   1   12   3.290   2   1   7   8  0.335   0   0   0   0    2   1\n",
            "683   1  208   0.750   3   3   4   8  0.585   0   0   0   0    3   1\n",
            "684   1  240   3.290   2   1  10   8  3.500   0   0   0   2    0   1\n",
            "685   1   52  10.085   3   3   5   4  1.250   0   0   0   0    0   1\n",
            "686   0   71   0.750   2   1   2   8  2.000   0   1   2   0  394   1\n",
            "687   0   97  13.500   3   3   6   3  2.000   0   1   1   0    1   1\n",
            "688   1   20   0.205   2   1   0   8  0.040   0   0   0   0  750   1\n",
            "689   1  197   3.375   2   1   2   4  8.290   0   0   0   0    0   1\n"
          ],
          "name": "stdout"
        }
      ]
    },
    {
      "cell_type": "code",
      "metadata": {
        "colab": {
          "base_uri": "https://localhost:8080/"
        },
        "id": "AZIsZ42YFt2Y",
        "outputId": "ae93c5c2-aabd-41a2-d325-78170d0c615c"
      },
      "source": [
        "# Segregate features and labels into separate variables\n",
        "X, y = cc_apps.iloc[:, 0:13], cc_apps.iloc[:, 13]\n",
        "\n",
        "print(\"Variances before scaling:\")\n",
        "print(X.var())\n",
        "print(\"\\n\")"
      ],
      "execution_count": 105,
      "outputs": [
        {
          "output_type": "stream",
          "text": [
            "Variances before scaling:\n",
            "0     2.120275e-01\n",
            "1     9.252313e+03\n",
            "2     2.478211e+01\n",
            "3     2.276120e-01\n",
            "4     7.398162e-01\n",
            "5     1.946671e+01\n",
            "6     6.731461e+00\n",
            "7     1.119915e+01\n",
            "8     2.498244e-01\n",
            "9     2.451042e-01\n",
            "10    2.364819e+01\n",
            "12    3.112177e-01\n",
            "14    2.714517e+07\n",
            "dtype: float64\n",
            "\n",
            "\n"
          ],
          "name": "stdout"
        }
      ]
    },
    {
      "cell_type": "markdown",
      "metadata": {
        "id": "zSx0ojkZHzj5"
      },
      "source": [
        "## Rescale all the values"
      ]
    },
    {
      "cell_type": "code",
      "metadata": {
        "colab": {
          "base_uri": "https://localhost:8080/"
        },
        "id": "HWCCmy4CGyGX",
        "outputId": "b686577c-46f8-4b2b-b6a4-a7c60c130290"
      },
      "source": [
        "# Instantiate StandardScaler and use it to rescale cc_apps\n",
        "scaler = StandardScaler()\n",
        "X = pd.DataFrame(scaler.fit_transform(X),\n",
        "                       columns=X.columns)\n",
        "\n",
        "print(\"Variances after scaling:\")\n",
        "print(X.var())\n",
        "print(\"\\n\")"
      ],
      "execution_count": 106,
      "outputs": [
        {
          "output_type": "stream",
          "text": [
            "Variances after scaling:\n",
            "0     1.001451\n",
            "1     1.001451\n",
            "2     1.001451\n",
            "3     1.001451\n",
            "4     1.001451\n",
            "5     1.001451\n",
            "6     1.001451\n",
            "7     1.001451\n",
            "8     1.001451\n",
            "9     1.001451\n",
            "10    1.001451\n",
            "12    1.001451\n",
            "14    1.001451\n",
            "dtype: float64\n",
            "\n",
            "\n"
          ],
          "name": "stdout"
        }
      ]
    },
    {
      "cell_type": "markdown",
      "metadata": {
        "id": "4uxY-5-EqxfD"
      },
      "source": [
        "## Splitting the dataset into train and test sets\n"
      ]
    },
    {
      "cell_type": "code",
      "metadata": {
        "id": "npFYoxbSGoMO"
      },
      "source": [
        "# Transform into numpy array\n",
        "cc_apps = cc_apps.to_numpy()\n",
        "\n",
        "# Split into train and test sets\n",
        "X_train, X_test, y_train, y_test = train_test_split(X,\n",
        "                                y,\n",
        "                                test_size=0.33,\n",
        "                                random_state=42)"
      ],
      "execution_count": 107,
      "outputs": []
    },
    {
      "cell_type": "markdown",
      "metadata": {
        "id": "WBiMBtFeqfv5"
      },
      "source": [
        "## Fitting a logistic regression model to the train set\n"
      ]
    },
    {
      "cell_type": "code",
      "metadata": {
        "colab": {
          "base_uri": "https://localhost:8080/"
        },
        "id": "tbwIndP2i3px",
        "outputId": "4f052450-711f-4006-b20e-b680f381a368"
      },
      "source": [
        "# Instantiate a LogisticRegression classifier with default parameter values\n",
        "logreg = LogisticRegression()\n",
        "\n",
        "# Fit logreg to the train set\n",
        "logreg.fit(X_train, y_train)"
      ],
      "execution_count": 108,
      "outputs": [
        {
          "output_type": "execute_result",
          "data": {
            "text/plain": [
              "LogisticRegression(C=1.0, class_weight=None, dual=False, fit_intercept=True,\n",
              "                   intercept_scaling=1, l1_ratio=None, max_iter=100,\n",
              "                   multi_class='auto', n_jobs=None, penalty='l2',\n",
              "                   random_state=None, solver='lbfgs', tol=0.0001, verbose=0,\n",
              "                   warm_start=False)"
            ]
          },
          "metadata": {
            "tags": []
          },
          "execution_count": 108
        }
      ]
    },
    {
      "cell_type": "markdown",
      "metadata": {
        "id": "vzqKUv5BqcHQ"
      },
      "source": [
        "## Making predictions and evaluating performance"
      ]
    },
    {
      "cell_type": "code",
      "metadata": {
        "colab": {
          "base_uri": "https://localhost:8080/"
        },
        "id": "f-w432_fi3tN",
        "outputId": "9949f579-85af-467f-bf0a-dc4780782178"
      },
      "source": [
        "# Use logreg to predict instances from the test set and store it\n",
        "y_pred = logreg.predict(X_test)\n",
        "\n",
        "# Get the accuracy score of logreg model and print it\n",
        "print(\"Accuracy of logistic regression classifier: \",\n",
        "      logreg.score(X_test, y_test))\n",
        "\n",
        "# Print the confusion matrix of the logreg model\n",
        "print(confusion_matrix(y_test, y_pred))\n",
        "\n"
      ],
      "execution_count": 109,
      "outputs": [
        {
          "output_type": "stream",
          "text": [
            "Accuracy of logistic regression classifier:  0.8508771929824561\n",
            "[[ 93  10]\n",
            " [ 24 101]]\n"
          ],
          "name": "stdout"
        }
      ]
    },
    {
      "cell_type": "markdown",
      "metadata": {
        "id": "2JRvoiUTqTbN"
      },
      "source": [
        "## Grid searching and making the model perform better"
      ]
    },
    {
      "cell_type": "code",
      "metadata": {
        "id": "STgMEIHxjBNq"
      },
      "source": [
        "# Define the grid of values for tol and max_iter\n",
        "tol = [0.01, 0.001, 0.0001]\n",
        "max_iter = [100, 150, 200]\n",
        "\n",
        "# Create a dictionary where tol and max_iter are keys and the lists of their values are corresponding values\n",
        "param_grid = dict(tol=tol, max_iter=max_iter)"
      ],
      "execution_count": 110,
      "outputs": []
    },
    {
      "cell_type": "markdown",
      "metadata": {
        "id": "RtW60B9AqLAR"
      },
      "source": [
        "## Find the best performing model"
      ]
    },
    {
      "cell_type": "code",
      "metadata": {
        "colab": {
          "base_uri": "https://localhost:8080/"
        },
        "id": "h1M1Z-SPjDYP",
        "outputId": "1b3e34b2-2eb7-4a2c-fa2a-b393ecebb1f0"
      },
      "source": [
        "# Instantiate GridSearchCV with the required parameters\n",
        "grid_model = GridSearchCV(estimator=logreg, param_grid=param_grid, cv=5)\n",
        "\n",
        "# Fit data to grid_model\n",
        "grid_model_result = grid_model.fit(X_train, y_train)\n",
        "\n",
        "# Summarize results\n",
        "best_score, best_params = grid_model_result.best_score_, grid_model_result.best_params_\n",
        "print(\"Best: %f using %s\" % (best_score, best_params))"
      ],
      "execution_count": 111,
      "outputs": [
        {
          "output_type": "stream",
          "text": [
            "Best: 0.854979 using {'max_iter': 100, 'tol': 0.01}\n"
          ],
          "name": "stdout"
        }
      ]
    },
    {
      "cell_type": "markdown",
      "metadata": {
        "id": "fLzCBPmPsXGo"
      },
      "source": [
        "## Evaluating best performing logistic regression model"
      ]
    },
    {
      "cell_type": "code",
      "metadata": {
        "colab": {
          "base_uri": "https://localhost:8080/"
        },
        "id": "drl3_hHvooDA",
        "outputId": "d10f13f9-7010-49fb-92f4-e02306206081"
      },
      "source": [
        "# Use grid_model to predict instances from the test set and store it\n",
        "y_pred = grid_model.predict(X_test)\n",
        "\n",
        "# Get the accuracy score of grid_model and print it\n",
        "print(\"Accuracy of the best logistic regression classifier: \",\n",
        "      grid_model.score(X_test, y_test))\n",
        "\n",
        "# Get the f1 score of grid_model and print it\n",
        "print(\"F1 Score of the best logistic regression classifier\",\n",
        "      f1_score(y_test, y_pred))\n",
        "\n",
        "# Print the confusion matrix of the logreg model\n",
        "print(\"Confusion matrix of the best logistic regression classifier:\\n\", \n",
        "      confusion_matrix(y_test, y_pred))"
      ],
      "execution_count": 112,
      "outputs": [
        {
          "output_type": "stream",
          "text": [
            "Accuracy of the best logistic regression classifier:  0.8508771929824561\n",
            "F1 Score of the best logistic regression classifier 0.8559322033898304\n",
            "Confusion matrix of the best logistic regression classifier:\n",
            " [[ 93  10]\n",
            " [ 24 101]]\n"
          ],
          "name": "stdout"
        }
      ]
    },
    {
      "cell_type": "markdown",
      "metadata": {
        "id": "6NXaYRxMtyih"
      },
      "source": [
        "## Training and evaluating a k-NN model"
      ]
    },
    {
      "cell_type": "code",
      "metadata": {
        "colab": {
          "base_uri": "https://localhost:8080/"
        },
        "id": "SO8EAPGGjFm5",
        "outputId": "a9bf6a5f-7315-4690-e1aa-b24288eeb186"
      },
      "source": [
        "knn_param_grid = {'n_neighbors': np.arange(1, 50)}\n",
        "knn = KNeighborsClassifier()\n",
        "knn_cv = GridSearchCV(knn, knn_param_grid, cv=5)\n",
        "knn_grid_model_result = knn_cv.fit(X_train, y_train)\n",
        "best_knn_score, best_knn_params = knn_grid_model_result.best_score_, knn_grid_model_result.best_params_\n",
        "print(\"k-NN Model - Best score: %f using %s\" % (best_knn_score, best_knn_params))\n",
        "\n",
        "# Predict instances from the test set and store it\n",
        "y_pred = knn_grid_model_result.predict(X_test)\n",
        "\n",
        "# Get the accuracy score and print it\n",
        "print(\"Accuracy of the best knn classifier: \",\n",
        "      knn_grid_model_result.score(X_test, y_test))\n",
        "\n",
        "# Get the f1 score and print it\n",
        "print(\"F1 Score of the best knn classifier\",\n",
        "      f1_score(y_test, y_pred))\n",
        "\n",
        "# Print the confusion matrix of the logreg model\n",
        "print(\"Confusion matrix of the best knn classifier:\\n\", \n",
        "      confusion_matrix(y_test, y_pred))"
      ],
      "execution_count": 113,
      "outputs": [
        {
          "output_type": "stream",
          "text": [
            "k-NN Model - Best score: 0.863675 using {'n_neighbors': 14}\n",
            "Accuracy of the best knn classifier:  0.8464912280701754\n",
            "F1 Score of the best knn classifier 0.859437751004016\n",
            "Confusion matrix of the best knn classifier:\n",
            " [[ 86  17]\n",
            " [ 18 107]]\n"
          ],
          "name": "stdout"
        }
      ]
    },
    {
      "cell_type": "markdown",
      "metadata": {
        "id": "0noaSNPfuw8n"
      },
      "source": [
        "## Training and evaluating a linear SVM model"
      ]
    },
    {
      "cell_type": "code",
      "metadata": {
        "colab": {
          "base_uri": "https://localhost:8080/"
        },
        "id": "mB1dm0n2uC_F",
        "outputId": "b935e9b6-55c1-4351-e97b-756707685b35"
      },
      "source": [
        "svc_param_grid = {\n",
        "    'C': [0.01, 0.1, 1, 10, 100],\n",
        "    'gamma': [0.00001, 0.0001, 0.001, 0.01, 0.1, 1]\n",
        "}\n",
        "svc = SVC(kernel='linear')\n",
        "svc_cv = GridSearchCV(svc, svc_param_grid, cv=5)\n",
        "svc_grid_model_result = svc_cv.fit(X_train, y_train)\n",
        "best_svc_score, best_svc_params = svc_grid_model_result.best_score_, svc_grid_model_result.best_params_\n",
        "print(\"SVM with linear kernel - Best score: %f using %s\" % (best_svc_score, best_svc_params))\n",
        "\n",
        "# Predict instances from the test set and store it\n",
        "y_pred = svc_grid_model_result.predict(X_test)\n",
        "\n",
        "# Get the accuracy score and print it\n",
        "print(\"Accuracy of the best linear SVM classifier: \",\n",
        "      svc_grid_model_result.score(X_test, y_test))\n",
        "\n",
        "# Get the f1 score and print it\n",
        "print(\"F1 Score of the best linear SVM classifier\",\n",
        "      f1_score(y_test, y_pred))\n",
        "\n",
        "# Print the confusion matrix of the logreg model\n",
        "print(\"Confusion matrix of the best linear SVM classifier:\\n\", \n",
        "      confusion_matrix(y_test, y_pred))"
      ],
      "execution_count": 114,
      "outputs": [
        {
          "output_type": "stream",
          "text": [
            "SVM with linear kernel - Best score: 0.863628 using {'C': 0.01, 'gamma': 1e-05}\n",
            "Accuracy of the best linear SVM classifier:  0.8421052631578947\n",
            "F1 Score of the best linear SVM classifier 0.8434782608695652\n",
            "Confusion matrix of the best linear SVM classifier:\n",
            " [[95  8]\n",
            " [28 97]]\n"
          ],
          "name": "stdout"
        }
      ]
    },
    {
      "cell_type": "markdown",
      "metadata": {
        "id": "mjuxJDkVvo_c"
      },
      "source": [
        "## Training and evaluating a RBF SVM model"
      ]
    },
    {
      "cell_type": "code",
      "metadata": {
        "id": "HOTAGLI9oR5n",
        "colab": {
          "base_uri": "https://localhost:8080/"
        },
        "outputId": "2051ffb6-a5fb-4ddd-9867-5783b474fcaf"
      },
      "source": [
        "rbf = SVC()\n",
        "pipeline = Pipeline(steps=[('rbf', rbf)])\n",
        "rbf_param_grid = {\n",
        "    'rbf__C': [0.01, 0.1, 1, 10, 100],\n",
        "    'rbf__gamma': [0.00001, 0.0001, 0.001, 0.01, 0.1, 1]\n",
        "}\n",
        "\n",
        "rbf_cv = GridSearchCV(pipeline, rbf_param_grid, cv=5)\n",
        "rbf_grid_model_result = rbf_cv.fit(X_train, y_train)\n",
        "best_rbf_score, best_rbf_params = rbf_grid_model_result.best_score_, rbf_grid_model_result.best_params_\n",
        "print(\"SVM with RBF kernel - Best: %f using %s\" % (best_rbf_score, best_rbf_params))\n",
        "\n",
        "# Predict instances from the test set and store it\n",
        "y_pred = rbf_grid_model_result.predict(X_test)\n",
        "\n",
        "# Get the accuracy score and print it\n",
        "print(\"Accuracy of the best rbf SVM classifier: \",\n",
        "      rbf_grid_model_result.score(X_test, y_test))\n",
        "\n",
        "# Get the f1 score and print it\n",
        "print(\"F1 Score of the best rbf SVM classifier\",\n",
        "      f1_score(y_test, y_pred))\n",
        "\n",
        "# Print the confusion matrix of the logreg model\n",
        "print(\"Confusion matrix of the best rbf SVM classifier:\\n\", \n",
        "      confusion_matrix(y_test, y_pred))"
      ],
      "execution_count": 115,
      "outputs": [
        {
          "output_type": "stream",
          "text": [
            "SVM with RBF kernel - Best: 0.861454 using {'rbf__C': 1, 'rbf__gamma': 0.01}\n",
            "Accuracy of the best rbf SVM classifier:  0.8421052631578947\n",
            "F1 Score of the best rbf SVM classifier 0.8434782608695652\n",
            "Confusion matrix of the best rbf SVM classifier:\n",
            " [[95  8]\n",
            " [28 97]]\n"
          ],
          "name": "stdout"
        }
      ]
    },
    {
      "cell_type": "markdown",
      "metadata": {
        "id": "B23IfbFmv4Wi"
      },
      "source": [
        "## Training and evaluating a decision tree classifier"
      ]
    },
    {
      "cell_type": "code",
      "metadata": {
        "id": "EOnZ7wPdv8ci",
        "colab": {
          "base_uri": "https://localhost:8080/"
        },
        "outputId": "ed37e393-c35e-48fe-b133-4242c2f4e46d"
      },
      "source": [
        "dt = DecisionTreeClassifier()\n",
        "\n",
        "pipeline = Pipeline(steps=[('dt', dt)])\n",
        "\n",
        "criterion = ['gini', 'entropy']\n",
        "\n",
        "max_depth = [2,4,6,8,10,12]\n",
        "\n",
        "param_grid = dict(dt__criterion=criterion,\n",
        "                  dt__max_depth=max_depth)\n",
        "\n",
        "grid_model = GridSearchCV(pipeline, param_grid, cv=5)\n",
        "grid_model.fit(X_train, y_train)\n",
        "\n",
        "best_dt_score, best_dt_params = grid_model.best_score_, grid_model.best_params_\n",
        "print(\"Decision Tree Classifier - Best: %f using %s\" % (best_dt_score, best_dt_params))\n",
        "\n",
        "# Predict instances from the test set and store it\n",
        "y_pred = grid_model.predict(X_test)\n",
        "\n",
        "# Get the accuracy score and print it\n",
        "print(\"Accuracy of the best decision tree classifier: \",\n",
        "      grid_model.score(X_test, y_test))\n",
        "\n",
        "# Get the f1 score and print it\n",
        "print(\"F1 Score of the best decision tree classifier\",\n",
        "      f1_score(y_test, y_pred))\n",
        "\n",
        "# Print the confusion matrix of the logreg model\n",
        "print(\"Confusion matrix of the best decision tree classifier:\\n\", \n",
        "      confusion_matrix(y_test, y_pred))"
      ],
      "execution_count": 117,
      "outputs": [
        {
          "output_type": "stream",
          "text": [
            "Decision Tree Classifier - Best: 0.861431 using {'dt__criterion': 'gini', 'dt__max_depth': 2}\n",
            "Accuracy of the best decision tree classifier:  0.8464912280701754\n",
            "F1 Score of the best decision tree classifier 0.8471615720524018\n",
            "Confusion matrix of the best decision tree classifier:\n",
            " [[96  7]\n",
            " [28 97]]\n"
          ],
          "name": "stdout"
        }
      ]
    },
    {
      "cell_type": "markdown",
      "metadata": {
        "id": "Qo5KSKKw12sE"
      },
      "source": [
        "## Train and evaluate a bagging model"
      ]
    },
    {
      "cell_type": "code",
      "metadata": {
        "id": "OtAi_RPF16lw",
        "colab": {
          "base_uri": "https://localhost:8080/"
        },
        "outputId": "e72b3b36-b47a-4844-c99b-d996e7097368"
      },
      "source": [
        "bc = BaggingClassifier()\n",
        "pipeline = Pipeline(steps=[('bc', bc)])\n",
        "\n",
        "n_estimators = [50, 100, 150, 200, 250, 300, 350, 400, 450, 500]\n",
        "\n",
        "param_grid = dict(bc__n_estimators=n_estimators)\n",
        "\n",
        "grid_model = GridSearchCV(pipeline, param_grid, cv=5)\n",
        "grid_model.fit(X_train, y_train)\n",
        "\n",
        "best_bc_score, best_bc_params = grid_model.best_score_, grid_model.best_params_\n",
        "print(\"Bagging Classifiier - Best: %f using %s\" % (best_bc_score, best_bc_params))\n",
        "\n",
        "# Predict instances from the test set and store it\n",
        "y_pred = grid_model.predict(X_test)\n",
        "\n",
        "# Get the accuracy score and print it\n",
        "print(\"Accuracy of the best decision tree classifier: \",\n",
        "      grid_model.score(X_test, y_test))\n",
        "\n",
        "# Get the f1 score and print it\n",
        "print(\"F1 Score of the best decision tree classifier\",\n",
        "      f1_score(y_test, y_pred))\n",
        "\n",
        "# Print the confusion matrix of the logreg model\n",
        "print(\"Confusion matrix of the best decision tree classifier:\\n\", \n",
        "      confusion_matrix(y_test, y_pred))"
      ],
      "execution_count": 118,
      "outputs": [
        {
          "output_type": "stream",
          "text": [
            "Bagging Classifiier - Best: 0.876554 using {'bc__n_estimators': 200}\n",
            "Accuracy of the best decision tree classifier:  0.868421052631579\n",
            "F1 Score of the best decision tree classifier 0.8770491803278688\n",
            "Confusion matrix of the best decision tree classifier:\n",
            " [[ 91  12]\n",
            " [ 18 107]]\n"
          ],
          "name": "stdout"
        }
      ]
    },
    {
      "cell_type": "markdown",
      "metadata": {
        "id": "R5zs9KkOuUVo"
      },
      "source": [
        "## Training and evaluating a Random Forests model"
      ]
    },
    {
      "cell_type": "code",
      "metadata": {
        "id": "6aqe4wtZ2Tsd",
        "colab": {
          "base_uri": "https://localhost:8080/"
        },
        "outputId": "5dfbd229-40a2-4fbc-fcc5-dbd187981c1f"
      },
      "source": [
        "rf = RandomForestClassifier()\n",
        "pipeline = Pipeline(steps=[('rf', rf)])\n",
        "\n",
        "n_estimators = [300, 350, 400, 450, 500, 550, 600]\n",
        "\n",
        "param_grid = dict(rf__n_estimators=n_estimators)\n",
        "\n",
        "grid_model = GridSearchCV(pipeline, param_grid, cv=5)\n",
        "grid_model.fit(X_train, y_train)\n",
        "\n",
        "best_rf_score, best_rf_params = grid_model.best_score_, grid_model.best_params_\n",
        "print(\"Random Forests Classifier - Best: %f using %s\" % (best_rf_score, best_rf_params))\n",
        "# print('Best number of estimators:', grid_model.best_estimator_.get_params()['rf__n_estimators'])\n",
        "\n",
        "y_pred = grid_model.predict(X_test)\n",
        "print(\"Accuracy: \", grid_model.score(X_test, y_test))\n",
        "print(\"F1 Score: \", f1_score(y_test, y_pred))\n",
        "print(\"Confusion matrix\\n\", confusion_matrix(y_test, y_pred))"
      ],
      "execution_count": 120,
      "outputs": [
        {
          "output_type": "stream",
          "text": [
            "Random Forests Classifier - Best: 0.874404 using {'rf__n_estimators': 550}\n",
            "Accuracy:  0.8640350877192983\n",
            "F1 Score:  0.8755020080321285\n",
            "Confusion matrix\n",
            " [[ 88  15]\n",
            " [ 16 109]]\n"
          ],
          "name": "stdout"
        }
      ]
    },
    {
      "cell_type": "markdown",
      "metadata": {
        "id": "ys5lFj_-uYZf"
      },
      "source": [
        "## Training and evaluating an Adaboost model"
      ]
    },
    {
      "cell_type": "code",
      "metadata": {
        "colab": {
          "base_uri": "https://localhost:8080/"
        },
        "id": "bPqZ2SBMQU4_",
        "outputId": "929d2fd1-542c-4d0c-c96f-342a003120c8"
      },
      "source": [
        "ada = AdaBoostClassifier()\n",
        "pipeline = Pipeline(steps=[('ada', ada)])\n",
        "\n",
        "n_estimators = [1, 5, 10, 15, 20, 25]\n",
        "\n",
        "param_grid = dict(ada__n_estimators=n_estimators)\n",
        "\n",
        "grid_model = GridSearchCV(pipeline, param_grid, cv=5)\n",
        "grid_model.fit(X_train, y_train)\n",
        "\n",
        "best_ada_score, best_ada_params = grid_model.best_score_, grid_model.best_params_\n",
        "print(\"AdaBoost Classifier - Best: %f using %s\" % (best_ada_score, best_ada_params))\n",
        "# print('Best number of estimators:', grid_model.best_estimator_.get_params()['ada__n_estimators'])\n",
        "\n",
        "y_pred = grid_model.predict(X_test)\n",
        "print(\"Accuracy: \", grid_model.score(X_test, y_test))\n",
        "print(\"F1 Score: \", f1_score(y_test, y_pred))\n",
        "print(\"Confusion matrix\\n\", confusion_matrix(y_test, y_pred))"
      ],
      "execution_count": 121,
      "outputs": [
        {
          "output_type": "stream",
          "text": [
            "AdaBoost Classifier - Best: 0.870126 using {'ada__n_estimators': 15}\n",
            "Accuracy:  0.8289473684210527\n",
            "F1 Score:  0.8354430379746836\n",
            "Confusion matrix\n",
            " [[90 13]\n",
            " [26 99]]\n"
          ],
          "name": "stdout"
        }
      ]
    },
    {
      "cell_type": "markdown",
      "metadata": {
        "id": "i58E-jvqucH1"
      },
      "source": [
        "## Training and evaluating a Gradient Boost model"
      ]
    },
    {
      "cell_type": "code",
      "metadata": {
        "colab": {
          "base_uri": "https://localhost:8080/"
        },
        "id": "Zc7qoX74Tsf9",
        "outputId": "b989078b-ea21-44d9-9e6b-72a1cffdd815"
      },
      "source": [
        "gb = GradientBoostingClassifier()\n",
        "\n",
        "pipeline = Pipeline(steps=[('gb', gb)])\n",
        "\n",
        "n_estimators = [1, 10, 50, 100, 150, 200]\n",
        "\n",
        "param_grid = dict(gb__n_estimators=n_estimators)\n",
        "\n",
        "grid_model = GridSearchCV(pipeline, param_grid, cv=5)\n",
        "grid_model.fit(X_train, y_train)\n",
        "\n",
        "best_gb_score, best_gb_params = grid_model.best_score_, grid_model.best_params_\n",
        "print(\"AdaBoost Classifier - Best: %f using %s\" % (best_gb_score, best_gb_params))\n",
        "# print('Best number of estimators:', grid_model.best_estimator_.get_params()['gb__n_estimators'])\n",
        "\n",
        "y_pred = grid_model.predict(X_test)\n",
        "print(\"Accuracy: \", grid_model.score(X_test, y_test))\n",
        "print(\"F1 Score: \", f1_score(y_test, y_pred))\n",
        "print(\"Confusion matrix\\n\", confusion_matrix(y_test, y_pred))"
      ],
      "execution_count": 122,
      "outputs": [
        {
          "output_type": "stream",
          "text": [
            "AdaBoost Classifier - Best: 0.855026 using {'gb__n_estimators': 50}\n",
            "Accuracy:  0.8508771929824561\n",
            "F1 Score:  0.8571428571428571\n",
            "Confusion matrix\n",
            " [[ 92  11]\n",
            " [ 23 102]]\n"
          ],
          "name": "stdout"
        }
      ]
    }
  ]
}